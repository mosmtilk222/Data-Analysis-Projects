{
  "nbformat": 4,
  "nbformat_minor": 0,
  "metadata": {
    "colab": {
      "name": "my aoe matches.ipynb",
      "provenance": [],
      "authorship_tag": "ABX9TyM7hj04r+AtJsIoWUQRpC2c",
      "include_colab_link": true
    },
    "kernelspec": {
      "name": "python3",
      "display_name": "Python 3"
    },
    "language_info": {
      "name": "python"
    }
  },
  "cells": [
    {
      "cell_type": "markdown",
      "metadata": {
        "id": "view-in-github",
        "colab_type": "text"
      },
      "source": [
        "<a href=\"https://colab.research.google.com/github/mosmtilk222/Data-Analysis-Projects/blob/main/my_aoe_matches.ipynb\" target=\"_parent\"><img src=\"https://colab.research.google.com/assets/colab-badge.svg\" alt=\"Open In Colab\"/></a>"
      ]
    },
    {
      "cell_type": "code",
      "execution_count": null,
      "metadata": {
        "id": "mDr_E01sujqi"
      },
      "outputs": [],
      "source": [
        "!pip install requests"
      ]
    },
    {
      "cell_type": "code",
      "source": [
        "import requests\n",
        "import math\n",
        "import json\n",
        "import sqlite3\n",
        "import pandas as pd\n",
        "import bokeh"
      ],
      "metadata": {
        "id": "V7_ry6RgutXj"
      },
      "execution_count": null,
      "outputs": []
    },
    {
      "cell_type": "code",
      "source": [
        "from google.colab import drive\n",
        "drive.mount('/content/drive')\n",
        "\n",
        "def run_query(query, parameters = ()):\n",
        "      with sqlite3.connect('/content/drive/My Drive/Colab Notebooks/AOE/database.db') as conn:\n",
        "        cursor = conn.cursor()\n",
        "        result = cursor.execute(query, parameters)\n",
        "        conn.commit()\n",
        "      return "
      ],
      "metadata": {
        "id": "Kl9NwrtlRTq5",
        "colab": {
          "base_uri": "https://localhost:8080/"
        },
        "outputId": "40ab8227-ed8f-4e34-dfa8-71828a068395"
      },
      "execution_count": null,
      "outputs": [
        {
          "output_type": "stream",
          "name": "stdout",
          "text": [
            "Mounted at /content/drive\n"
          ]
        }
      ]
    },
    {
      "cell_type": "code",
      "source": [
        "civilizations = {1: 'Britons',\n",
        " 2: 'Franks',\n",
        " 3: 'Goths',\n",
        " 4: 'Teutons',\n",
        " 5: 'Japanese',\n",
        " 6: 'Chinese',\n",
        " 7: 'Byzantines',\n",
        " 8: 'Persians',\n",
        " 9: 'Saracens',\n",
        " 10: 'Turks',\n",
        " 11: 'Vikings',\n",
        " 12: 'Mongols',\n",
        " 13: 'Celts',\n",
        " 14: 'Spanish',\n",
        " 15: 'Aztecs',\n",
        " 16: 'Mayans',\n",
        " 17: 'Huns',\n",
        " 18: 'Koreans',\n",
        " 19: 'Italians',\n",
        " 20: 'Indians',\n",
        " 21: 'Incas',\n",
        " 22: 'Magyars',\n",
        " 23: 'Slavs',\n",
        " 24: 'Portuguese',\n",
        " 25: 'Ethiopians',\n",
        " 26: 'Malians',\n",
        " 27: 'Berbers',\n",
        " 28: 'Khmer',\n",
        " 29: 'Malay',\n",
        " 30: 'Burmese',\n",
        " 31: 'Vietnamese',\n",
        " 32: 'Bulgarians',\n",
        " 33: 'Tatars',\n",
        " 34: 'Cumans',\n",
        " 35: 'Lithuanians',\n",
        " 36: 'Burgundians',\n",
        " 37: 'Sicilians',\n",
        " 38: 'Poles',\n",
        " 39: 'Bohemians'}"
      ],
      "metadata": {
        "id": "pOAfa6Y13x7F"
      },
      "execution_count": null,
      "outputs": []
    },
    {
      "cell_type": "markdown",
      "source": [
        "# **Extract**"
      ],
      "metadata": {
        "id": "w-XSuJuSoFSQ"
      }
    },
    {
      "cell_type": "markdown",
      "source": [
        "Getting my latest 1 v 1 Random Map matches in the next 3 blocks and adding them to the database"
      ],
      "metadata": {
        "id": "DrtIEl1pntbY"
      }
    },
    {
      "cell_type": "code",
      "source": [
        "my_steam_id = 76561198151358712\n",
        "response = requests.get(f'https://aoe2.net/api/player/matches?game=aoe2de&steam_id={my_steam_id}&count=1000')\n",
        "matches = response.json()"
      ],
      "metadata": {
        "id": "y7KzoSLGu1k-"
      },
      "execution_count": null,
      "outputs": []
    },
    {
      "cell_type": "code",
      "source": [
        "def match_data(json):\n",
        "  if json[\"num_players\"] == 2 and json[\"leaderboard_id\"] == 3:\n",
        "    num_civ_p1 = json[\"players\"][0][\"civ\"]\n",
        "    civ_p1 = civilizations[num_civ_p1]\n",
        "    nick_p1 = json[\"players\"][0][\"name\"]\n",
        "    elo_p1 = json[\"players\"][0][\"rating\"]\n",
        "\n",
        "    num_civ_p2 = json[\"players\"][1][\"civ\"]\n",
        "    civ_p2 = civilizations[num_civ_p2]\n",
        "    nick_p2 = json[\"players\"][1][\"name\"]\n",
        "    elo_p2 = json[\"players\"][1][\"rating\"]\n",
        "\n",
        "    time = json[\"finished\"] - json[\"started\"]\n",
        "    time = math.trunc(time / 60)\n",
        "\n",
        "    if nick_p1 == 'SuN | MostMilk':\n",
        "      player = nick_p2\n",
        "      my_civ = civ_p1\n",
        "      enemy_civ = civ_p2\n",
        "      enemy_elo = elo_p2\n",
        "      my_elo = elo_p1\n",
        "      victory = json[\"players\"][0][\"won\"]\n",
        "      \n",
        "    else:\n",
        "      player = nick_p1\n",
        "      my_civ = civ_p2\n",
        "      enemy_civ = civ_p1\n",
        "      enemy_elo = elo_p1\n",
        "      my_elo = elo_p2\n",
        "      victory = json[\"players\"][1][\"won\"]\n",
        "\n",
        "    run_query('INSERT INTO Matches VALUES (?,?,?,?,?,?,?)',(player, my_civ, enemy_civ, enemy_elo, my_elo, time, victory))"
      ],
      "metadata": {
        "id": "VJdsnsN4y35T"
      },
      "execution_count": null,
      "outputs": []
    },
    {
      "cell_type": "code",
      "source": [
        "for match in matches:\n",
        "  match_data(match)"
      ],
      "metadata": {
        "id": "6EvKFBNZLld2"
      },
      "execution_count": null,
      "outputs": []
    },
    {
      "cell_type": "markdown",
      "source": [
        "## **Transform**"
      ],
      "metadata": {
        "id": "UQE8EQRxoZAw"
      }
    },
    {
      "cell_type": "markdown",
      "source": [
        ""
      ],
      "metadata": {
        "id": "DGl4Mua3ohCm"
      }
    },
    {
      "cell_type": "code",
      "source": [
        "conn = sqlite3.connect('/content/drive/My Drive/Colab Notebooks/AOE/database.db')\n",
        "\n",
        "df = pd.read_sql('SELECT * FROM Matches', conn)\n",
        "df"
      ],
      "metadata": {
        "colab": {
          "base_uri": "https://localhost:8080/",
          "height": 424
        },
        "id": "frO2HAtwoheV",
        "outputId": "c7f9557c-e439-4695-cd7b-2750b7da14e9"
      },
      "execution_count": null,
      "outputs": [
        {
          "output_type": "execute_result",
          "data": {
            "text/html": [
              "\n",
              "  <div id=\"df-d7a70fae-b5fd-40cb-a9be-4315d8a63359\">\n",
              "    <div class=\"colab-df-container\">\n",
              "      <div>\n",
              "<style scoped>\n",
              "    .dataframe tbody tr th:only-of-type {\n",
              "        vertical-align: middle;\n",
              "    }\n",
              "\n",
              "    .dataframe tbody tr th {\n",
              "        vertical-align: top;\n",
              "    }\n",
              "\n",
              "    .dataframe thead th {\n",
              "        text-align: right;\n",
              "    }\n",
              "</style>\n",
              "<table border=\"1\" class=\"dataframe\">\n",
              "  <thead>\n",
              "    <tr style=\"text-align: right;\">\n",
              "      <th></th>\n",
              "      <th>Player</th>\n",
              "      <th>My civilization</th>\n",
              "      <th>Enemy civilization</th>\n",
              "      <th>Enemy elo</th>\n",
              "      <th>My elo</th>\n",
              "      <th>Time (minutes)</th>\n",
              "      <th>Win</th>\n",
              "    </tr>\n",
              "  </thead>\n",
              "  <tbody>\n",
              "    <tr>\n",
              "      <th>0</th>\n",
              "      <td>[GT]YellowJacket</td>\n",
              "      <td>Chinese</td>\n",
              "      <td>Byzantines</td>\n",
              "      <td>1855.0</td>\n",
              "      <td>1822.0</td>\n",
              "      <td>33</td>\n",
              "      <td>1.0</td>\n",
              "    </tr>\n",
              "    <tr>\n",
              "      <th>1</th>\n",
              "      <td>Combi | IamTeTas</td>\n",
              "      <td>Portuguese</td>\n",
              "      <td>Goths</td>\n",
              "      <td>1893.0</td>\n",
              "      <td>1810.0</td>\n",
              "      <td>2</td>\n",
              "      <td>1.0</td>\n",
              "    </tr>\n",
              "    <tr>\n",
              "      <th>2</th>\n",
              "      <td>Alfred</td>\n",
              "      <td>Chinese</td>\n",
              "      <td>Cumans</td>\n",
              "      <td>1720.0</td>\n",
              "      <td>1822.0</td>\n",
              "      <td>26</td>\n",
              "      <td>1.0</td>\n",
              "    </tr>\n",
              "    <tr>\n",
              "      <th>3</th>\n",
              "      <td>[Cotcot] Lighty</td>\n",
              "      <td>Huns</td>\n",
              "      <td>Vietnamese</td>\n",
              "      <td>1892.0</td>\n",
              "      <td>1822.0</td>\n",
              "      <td>29</td>\n",
              "      <td>0.0</td>\n",
              "    </tr>\n",
              "    <tr>\n",
              "      <th>4</th>\n",
              "      <td>AAOE | ManuelAntonio</td>\n",
              "      <td>Teutons</td>\n",
              "      <td>Goths</td>\n",
              "      <td>1730.0</td>\n",
              "      <td>1822.0</td>\n",
              "      <td>14</td>\n",
              "      <td>1.0</td>\n",
              "    </tr>\n",
              "    <tr>\n",
              "      <th>...</th>\n",
              "      <td>...</td>\n",
              "      <td>...</td>\n",
              "      <td>...</td>\n",
              "      <td>...</td>\n",
              "      <td>...</td>\n",
              "      <td>...</td>\n",
              "      <td>...</td>\n",
              "    </tr>\n",
              "    <tr>\n",
              "      <th>1019</th>\n",
              "      <td>[mPzzA] rainManzD</td>\n",
              "      <td>Vikings</td>\n",
              "      <td>Lithuanians</td>\n",
              "      <td>1801.0</td>\n",
              "      <td>1872.0</td>\n",
              "      <td>21</td>\n",
              "      <td>1.0</td>\n",
              "    </tr>\n",
              "    <tr>\n",
              "      <th>1020</th>\n",
              "      <td>Elite400</td>\n",
              "      <td>Celts</td>\n",
              "      <td>Chinese</td>\n",
              "      <td>1828.0</td>\n",
              "      <td>1872.0</td>\n",
              "      <td>25</td>\n",
              "      <td>1.0</td>\n",
              "    </tr>\n",
              "    <tr>\n",
              "      <th>1021</th>\n",
              "      <td>RediRodion</td>\n",
              "      <td>Italians</td>\n",
              "      <td>Japanese</td>\n",
              "      <td>1913.0</td>\n",
              "      <td>1872.0</td>\n",
              "      <td>9</td>\n",
              "      <td>0.0</td>\n",
              "    </tr>\n",
              "    <tr>\n",
              "      <th>1022</th>\n",
              "      <td>Spearsky</td>\n",
              "      <td>Goths</td>\n",
              "      <td>Lithuanians</td>\n",
              "      <td>1888.0</td>\n",
              "      <td>1872.0</td>\n",
              "      <td>29</td>\n",
              "      <td>1.0</td>\n",
              "    </tr>\n",
              "    <tr>\n",
              "      <th>1023</th>\n",
              "      <td>TRM</td>\n",
              "      <td>Berbers</td>\n",
              "      <td>Aztecs</td>\n",
              "      <td>1836.0</td>\n",
              "      <td>1872.0</td>\n",
              "      <td>24</td>\n",
              "      <td>1.0</td>\n",
              "    </tr>\n",
              "  </tbody>\n",
              "</table>\n",
              "<p>1024 rows × 7 columns</p>\n",
              "</div>\n",
              "      <button class=\"colab-df-convert\" onclick=\"convertToInteractive('df-d7a70fae-b5fd-40cb-a9be-4315d8a63359')\"\n",
              "              title=\"Convert this dataframe to an interactive table.\"\n",
              "              style=\"display:none;\">\n",
              "        \n",
              "  <svg xmlns=\"http://www.w3.org/2000/svg\" height=\"24px\"viewBox=\"0 0 24 24\"\n",
              "       width=\"24px\">\n",
              "    <path d=\"M0 0h24v24H0V0z\" fill=\"none\"/>\n",
              "    <path d=\"M18.56 5.44l.94 2.06.94-2.06 2.06-.94-2.06-.94-.94-2.06-.94 2.06-2.06.94zm-11 1L8.5 8.5l.94-2.06 2.06-.94-2.06-.94L8.5 2.5l-.94 2.06-2.06.94zm10 10l.94 2.06.94-2.06 2.06-.94-2.06-.94-.94-2.06-.94 2.06-2.06.94z\"/><path d=\"M17.41 7.96l-1.37-1.37c-.4-.4-.92-.59-1.43-.59-.52 0-1.04.2-1.43.59L10.3 9.45l-7.72 7.72c-.78.78-.78 2.05 0 2.83L4 21.41c.39.39.9.59 1.41.59.51 0 1.02-.2 1.41-.59l7.78-7.78 2.81-2.81c.8-.78.8-2.07 0-2.86zM5.41 20L4 18.59l7.72-7.72 1.47 1.35L5.41 20z\"/>\n",
              "  </svg>\n",
              "      </button>\n",
              "      \n",
              "  <style>\n",
              "    .colab-df-container {\n",
              "      display:flex;\n",
              "      flex-wrap:wrap;\n",
              "      gap: 12px;\n",
              "    }\n",
              "\n",
              "    .colab-df-convert {\n",
              "      background-color: #E8F0FE;\n",
              "      border: none;\n",
              "      border-radius: 50%;\n",
              "      cursor: pointer;\n",
              "      display: none;\n",
              "      fill: #1967D2;\n",
              "      height: 32px;\n",
              "      padding: 0 0 0 0;\n",
              "      width: 32px;\n",
              "    }\n",
              "\n",
              "    .colab-df-convert:hover {\n",
              "      background-color: #E2EBFA;\n",
              "      box-shadow: 0px 1px 2px rgba(60, 64, 67, 0.3), 0px 1px 3px 1px rgba(60, 64, 67, 0.15);\n",
              "      fill: #174EA6;\n",
              "    }\n",
              "\n",
              "    [theme=dark] .colab-df-convert {\n",
              "      background-color: #3B4455;\n",
              "      fill: #D2E3FC;\n",
              "    }\n",
              "\n",
              "    [theme=dark] .colab-df-convert:hover {\n",
              "      background-color: #434B5C;\n",
              "      box-shadow: 0px 1px 3px 1px rgba(0, 0, 0, 0.15);\n",
              "      filter: drop-shadow(0px 1px 2px rgba(0, 0, 0, 0.3));\n",
              "      fill: #FFFFFF;\n",
              "    }\n",
              "  </style>\n",
              "\n",
              "      <script>\n",
              "        const buttonEl =\n",
              "          document.querySelector('#df-d7a70fae-b5fd-40cb-a9be-4315d8a63359 button.colab-df-convert');\n",
              "        buttonEl.style.display =\n",
              "          google.colab.kernel.accessAllowed ? 'block' : 'none';\n",
              "\n",
              "        async function convertToInteractive(key) {\n",
              "          const element = document.querySelector('#df-d7a70fae-b5fd-40cb-a9be-4315d8a63359');\n",
              "          const dataTable =\n",
              "            await google.colab.kernel.invokeFunction('convertToInteractive',\n",
              "                                                     [key], {});\n",
              "          if (!dataTable) return;\n",
              "\n",
              "          const docLinkHtml = 'Like what you see? Visit the ' +\n",
              "            '<a target=\"_blank\" href=https://colab.research.google.com/notebooks/data_table.ipynb>data table notebook</a>'\n",
              "            + ' to learn more about interactive tables.';\n",
              "          element.innerHTML = '';\n",
              "          dataTable['output_type'] = 'display_data';\n",
              "          await google.colab.output.renderOutput(dataTable, element);\n",
              "          const docLink = document.createElement('div');\n",
              "          docLink.innerHTML = docLinkHtml;\n",
              "          element.appendChild(docLink);\n",
              "        }\n",
              "      </script>\n",
              "    </div>\n",
              "  </div>\n",
              "  "
            ],
            "text/plain": [
              "                    Player My civilization  ... Time (minutes)  Win\n",
              "0         [GT]YellowJacket         Chinese  ...             33  1.0\n",
              "1         Combi | IamTeTas      Portuguese  ...              2  1.0\n",
              "2                   Alfred         Chinese  ...             26  1.0\n",
              "3          [Cotcot] Lighty            Huns  ...             29  0.0\n",
              "4     AAOE | ManuelAntonio         Teutons  ...             14  1.0\n",
              "...                    ...             ...  ...            ...  ...\n",
              "1019     [mPzzA] rainManzD         Vikings  ...             21  1.0\n",
              "1020              Elite400           Celts  ...             25  1.0\n",
              "1021            RediRodion        Italians  ...              9  0.0\n",
              "1022              Spearsky           Goths  ...             29  1.0\n",
              "1023                   TRM         Berbers  ...             24  1.0\n",
              "\n",
              "[1024 rows x 7 columns]"
            ]
          },
          "metadata": {},
          "execution_count": 8
        }
      ]
    },
    {
      "cell_type": "code",
      "source": [
        "df.info()"
      ],
      "metadata": {
        "colab": {
          "base_uri": "https://localhost:8080/"
        },
        "id": "eGdBaxIZohpf",
        "outputId": "6e71d7db-c105-462d-b1bd-7c0072a1143e"
      },
      "execution_count": null,
      "outputs": [
        {
          "output_type": "stream",
          "name": "stdout",
          "text": [
            "<class 'pandas.core.frame.DataFrame'>\n",
            "RangeIndex: 1024 entries, 0 to 1023\n",
            "Data columns (total 7 columns):\n",
            " #   Column              Non-Null Count  Dtype  \n",
            "---  ------              --------------  -----  \n",
            " 0   Player              1024 non-null   object \n",
            " 1   My civilization     1024 non-null   object \n",
            " 2   Enemy civilization  1024 non-null   object \n",
            " 3   Enemy elo           1011 non-null   float64\n",
            " 4   My elo              1015 non-null   float64\n",
            " 5   Time (minutes)      1024 non-null   int64  \n",
            " 6   Win                 1022 non-null   float64\n",
            "dtypes: float64(3), int64(1), object(3)\n",
            "memory usage: 56.1+ KB\n"
          ]
        }
      ]
    },
    {
      "cell_type": "code",
      "source": [
        "df.loc[[10],[\"Player\"]]"
      ],
      "metadata": {
        "colab": {
          "base_uri": "https://localhost:8080/",
          "height": 81
        },
        "id": "fGAwYnvTsLpP",
        "outputId": "dddaaf22-1c10-4870-b3f3-841214aca942"
      },
      "execution_count": null,
      "outputs": [
        {
          "output_type": "execute_result",
          "data": {
            "text/html": [
              "\n",
              "  <div id=\"df-b84bdd65-ec79-4304-b3ce-138919612e23\">\n",
              "    <div class=\"colab-df-container\">\n",
              "      <div>\n",
              "<style scoped>\n",
              "    .dataframe tbody tr th:only-of-type {\n",
              "        vertical-align: middle;\n",
              "    }\n",
              "\n",
              "    .dataframe tbody tr th {\n",
              "        vertical-align: top;\n",
              "    }\n",
              "\n",
              "    .dataframe thead th {\n",
              "        text-align: right;\n",
              "    }\n",
              "</style>\n",
              "<table border=\"1\" class=\"dataframe\">\n",
              "  <thead>\n",
              "    <tr style=\"text-align: right;\">\n",
              "      <th></th>\n",
              "      <th>Player</th>\n",
              "    </tr>\n",
              "  </thead>\n",
              "  <tbody>\n",
              "    <tr>\n",
              "      <th>10</th>\n",
              "      <td>Cachinero</td>\n",
              "    </tr>\n",
              "  </tbody>\n",
              "</table>\n",
              "</div>\n",
              "      <button class=\"colab-df-convert\" onclick=\"convertToInteractive('df-b84bdd65-ec79-4304-b3ce-138919612e23')\"\n",
              "              title=\"Convert this dataframe to an interactive table.\"\n",
              "              style=\"display:none;\">\n",
              "        \n",
              "  <svg xmlns=\"http://www.w3.org/2000/svg\" height=\"24px\"viewBox=\"0 0 24 24\"\n",
              "       width=\"24px\">\n",
              "    <path d=\"M0 0h24v24H0V0z\" fill=\"none\"/>\n",
              "    <path d=\"M18.56 5.44l.94 2.06.94-2.06 2.06-.94-2.06-.94-.94-2.06-.94 2.06-2.06.94zm-11 1L8.5 8.5l.94-2.06 2.06-.94-2.06-.94L8.5 2.5l-.94 2.06-2.06.94zm10 10l.94 2.06.94-2.06 2.06-.94-2.06-.94-.94-2.06-.94 2.06-2.06.94z\"/><path d=\"M17.41 7.96l-1.37-1.37c-.4-.4-.92-.59-1.43-.59-.52 0-1.04.2-1.43.59L10.3 9.45l-7.72 7.72c-.78.78-.78 2.05 0 2.83L4 21.41c.39.39.9.59 1.41.59.51 0 1.02-.2 1.41-.59l7.78-7.78 2.81-2.81c.8-.78.8-2.07 0-2.86zM5.41 20L4 18.59l7.72-7.72 1.47 1.35L5.41 20z\"/>\n",
              "  </svg>\n",
              "      </button>\n",
              "      \n",
              "  <style>\n",
              "    .colab-df-container {\n",
              "      display:flex;\n",
              "      flex-wrap:wrap;\n",
              "      gap: 12px;\n",
              "    }\n",
              "\n",
              "    .colab-df-convert {\n",
              "      background-color: #E8F0FE;\n",
              "      border: none;\n",
              "      border-radius: 50%;\n",
              "      cursor: pointer;\n",
              "      display: none;\n",
              "      fill: #1967D2;\n",
              "      height: 32px;\n",
              "      padding: 0 0 0 0;\n",
              "      width: 32px;\n",
              "    }\n",
              "\n",
              "    .colab-df-convert:hover {\n",
              "      background-color: #E2EBFA;\n",
              "      box-shadow: 0px 1px 2px rgba(60, 64, 67, 0.3), 0px 1px 3px 1px rgba(60, 64, 67, 0.15);\n",
              "      fill: #174EA6;\n",
              "    }\n",
              "\n",
              "    [theme=dark] .colab-df-convert {\n",
              "      background-color: #3B4455;\n",
              "      fill: #D2E3FC;\n",
              "    }\n",
              "\n",
              "    [theme=dark] .colab-df-convert:hover {\n",
              "      background-color: #434B5C;\n",
              "      box-shadow: 0px 1px 3px 1px rgba(0, 0, 0, 0.15);\n",
              "      filter: drop-shadow(0px 1px 2px rgba(0, 0, 0, 0.3));\n",
              "      fill: #FFFFFF;\n",
              "    }\n",
              "  </style>\n",
              "\n",
              "      <script>\n",
              "        const buttonEl =\n",
              "          document.querySelector('#df-b84bdd65-ec79-4304-b3ce-138919612e23 button.colab-df-convert');\n",
              "        buttonEl.style.display =\n",
              "          google.colab.kernel.accessAllowed ? 'block' : 'none';\n",
              "\n",
              "        async function convertToInteractive(key) {\n",
              "          const element = document.querySelector('#df-b84bdd65-ec79-4304-b3ce-138919612e23');\n",
              "          const dataTable =\n",
              "            await google.colab.kernel.invokeFunction('convertToInteractive',\n",
              "                                                     [key], {});\n",
              "          if (!dataTable) return;\n",
              "\n",
              "          const docLinkHtml = 'Like what you see? Visit the ' +\n",
              "            '<a target=\"_blank\" href=https://colab.research.google.com/notebooks/data_table.ipynb>data table notebook</a>'\n",
              "            + ' to learn more about interactive tables.';\n",
              "          element.innerHTML = '';\n",
              "          dataTable['output_type'] = 'display_data';\n",
              "          await google.colab.output.renderOutput(dataTable, element);\n",
              "          const docLink = document.createElement('div');\n",
              "          docLink.innerHTML = docLinkHtml;\n",
              "          element.appendChild(docLink);\n",
              "        }\n",
              "      </script>\n",
              "    </div>\n",
              "  </div>\n",
              "  "
            ],
            "text/plain": [
              "       Player\n",
              "10  Cachinero"
            ]
          },
          "metadata": {},
          "execution_count": 11
        }
      ]
    }
  ]
}